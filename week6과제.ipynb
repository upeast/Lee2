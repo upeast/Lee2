{
  "nbformat": 4,
  "nbformat_minor": 0,
  "metadata": {
    "colab": {
      "provenance": [],
      "authorship_tag": "ABX9TyPwibtUG4+BLPDswSFjlaQk",
      "include_colab_link": true
    },
    "kernelspec": {
      "name": "python3",
      "display_name": "Python 3"
    },
    "language_info": {
      "name": "python"
    }
  },
  "cells": [
    {
      "cell_type": "markdown",
      "metadata": {
        "id": "view-in-github",
        "colab_type": "text"
      },
      "source": [
        "<a href=\"https://colab.research.google.com/github/upeast/Lee2/blob/main/week6%EA%B3%BC%EC%A0%9C.ipynb\" target=\"_parent\"><img src=\"https://colab.research.google.com/assets/colab-badge.svg\" alt=\"Open In Colab\"/></a>"
      ]
    },
    {
      "cell_type": "markdown",
      "source": [
        "1번문제"
      ],
      "metadata": {
        "id": "OSU59_TZyFOa"
      }
    },
    {
      "cell_type": "code",
      "execution_count": 7,
      "metadata": {
        "id": "NuoP-_oRF96d",
        "colab": {
          "base_uri": "https://localhost:8080/"
        },
        "outputId": "210f5816-884f-45ff-9faa-f0a50ec3e91e"
      },
      "outputs": [
        {
          "output_type": "stream",
          "name": "stdout",
          "text": [
            "      User ID  Gender  Age  EstimatedSalary  Purchased\n",
            "0    15624510    Male   19            19000          0\n",
            "1    15810944    Male   35            20000          0\n",
            "2    15668575  Female   26            43000          0\n",
            "3    15603246  Female   27            57000          0\n",
            "4    15804002    Male   19            76000          0\n",
            "..        ...     ...  ...              ...        ...\n",
            "395  15691863  Female   46            41000          1\n",
            "396  15706071    Male   51            23000          1\n",
            "397  15654296  Female   50            20000          1\n",
            "398  15755018    Male   36            33000          0\n",
            "399  15594041  Female   49            36000          1\n",
            "\n",
            "[400 rows x 5 columns]\n"
          ]
        }
      ],
      "source": [
        "import pandas as pd\n",
        "\n",
        "# CSV 파일 로드\n",
        "data = pd.read_csv(\"/content/Social_Network_Ads.csv\")\n",
        "print(data)"
      ]
    },
    {
      "cell_type": "markdown",
      "source": [
        "2번문제"
      ],
      "metadata": {
        "id": "h6FbQmYVyHuU"
      }
    },
    {
      "cell_type": "code",
      "source": [
        "import numpy as np\n",
        "\n",
        "X = data[['Age', 'EstimatedSalary']].values  # x1 = Age, x2 = EstimatedSalary\n",
        "y = data['Purchased'].values.reshape(-1, 1)  # y = Purchased\n",
        "\n",
        "print(\"X shape:\", X.shape)\n",
        "print(\"y shape:\", y.shape)"
      ],
      "metadata": {
        "colab": {
          "base_uri": "https://localhost:8080/"
        },
        "id": "p4tSrXDPwg5J",
        "outputId": "28538a3d-3d6b-449f-a690-eee51e9968b8"
      },
      "execution_count": 8,
      "outputs": [
        {
          "output_type": "stream",
          "name": "stdout",
          "text": [
            "X shape: (400, 2)\n",
            "y shape: (400, 1)\n"
          ]
        }
      ]
    },
    {
      "cell_type": "markdown",
      "source": [
        "3번문제"
      ],
      "metadata": {
        "id": "RsGewk5JyzOU"
      }
    },
    {
      "cell_type": "code",
      "source": [
        "from sklearn.model_selection import train_test_split\n",
        "\n",
        "# X, y는 앞에서 정의한 특성과 정답 데이터\n",
        "X_train, X_test, y_train, y_test = train_test_split(X, y, test_size=0.2, random_state=42)\n",
        "\n",
        "# 데이터 개수 확인\n",
        "print(\"훈련 데이터 개수:\", len(X_train))\n",
        "print(\"테스트 데이터 개수:\", len(X_test))"
      ],
      "metadata": {
        "colab": {
          "base_uri": "https://localhost:8080/"
        },
        "id": "Mt2Ou89eyaH_",
        "outputId": "6fa24a80-ab61-4bfd-afb1-f828d37c6c07"
      },
      "execution_count": 9,
      "outputs": [
        {
          "output_type": "stream",
          "name": "stdout",
          "text": [
            "훈련 데이터 개수: 320\n",
            "테스트 데이터 개수: 80\n"
          ]
        }
      ]
    },
    {
      "cell_type": "code",
      "source": [],
      "metadata": {
        "id": "uEsKRVHsyxdP"
      },
      "execution_count": null,
      "outputs": []
    }
  ]
}